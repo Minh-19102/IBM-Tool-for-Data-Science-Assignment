{
 "cells": [
  {
   "cell_type": "markdown",
   "metadata": {},
   "source": [
    "# My Jupyter Notebook on IBM Watson Studio"
   ]
  },
  {
   "cell_type": "markdown",
   "metadata": {},
   "source": [
    "**Dao Nhat Minh**\n",
    "\n",
    "Student at Hanoi University of Science and Technology"
   ]
  },
  {
   "cell_type": "markdown",
   "metadata": {},
   "source": [
    "*I am interested in data science because i think with data i can explore new insight, understand many things that hidden inside the data. With a huge data created every seconds, I think data science is one of the top demand job in the future.*"
   ]
  },
  {
   "cell_type": "markdown",
   "metadata": {},
   "source": [
    "### Sum of numbers from 1 to N (N>0)"
   ]
  },
  {
   "cell_type": "code",
   "execution_count": 5,
   "metadata": {},
   "outputs": [
    {
     "name": "stdout",
     "output_type": "stream",
     "text": [
      "5050\n"
     ]
    }
   ],
   "source": [
    "n = 100 #change this \n",
    "print(n*(n+1)//2)"
   ]
  },
  {
   "cell_type": "markdown",
   "metadata": {},
   "source": [
    "- - -\n",
    "- One\n",
    "- Two\n",
    "- Three\n",
    "- Four \n",
    "\n",
    "|       | Col 1 | Col 2 | Col 3 |\n",
    "|-------|------|------|------|\n",
    "| Row 1 | 1    | 2    | 3    |\n",
    "| Row 2 | 4    | 5    | 6    |\n",
    "| Row 3 | 7    | 8    | 9    |\n",
    "\n",
    "Click [here](https://www.ibm.com/cloud/watson-studio) to visit IBM Watson Studio"
   ]
  }
 ],
 "metadata": {
  "kernelspec": {
   "display_name": "Python",
   "language": "python",
   "name": "conda-env-python-py"
  },
  "language_info": {
   "codemirror_mode": {
    "name": "ipython",
    "version": 3
   },
   "file_extension": ".py",
   "mimetype": "text/x-python",
   "name": "python",
   "nbconvert_exporter": "python",
   "pygments_lexer": "ipython3",
   "version": "3.7.12"
  }
 },
 "nbformat": 4,
 "nbformat_minor": 4
}
